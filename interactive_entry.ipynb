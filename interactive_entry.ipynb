{
 "cells": [
  {
   "cell_type": "code",
   "execution_count": 1,
   "id": "b7850830",
   "metadata": {},
   "outputs": [],
   "source": [
    "import pandas as pd\n",
    "import sqlite3\n",
    "import sj_db_functions as dbfunc\n",
    "\n",
    "connection=sqlite3.connect('shonen_jump.sqlite3')\n",
    "cursor=connection.cursor()"
   ]
  },
  {
   "cell_type": "code",
   "execution_count": 2,
   "id": "2112b09a",
   "metadata": {},
   "outputs": [],
   "source": [
    "loader=dbfunc.DataLoader(connection)"
   ]
  },
  {
   "cell_type": "code",
   "execution_count": 3,
   "id": "cfba566a",
   "metadata": {},
   "outputs": [
    {
     "name": "stdout",
     "output_type": "stream",
     "text": [
      "Once adjusted, the date given by https://www.jajanken.net/en/issues/2025-01-29 is not a Sunday.\n",
      "Once adjusted, the date given by https://www.jajanken.net/en/issues/2025-01-22 is not a Sunday.\n",
      "Once adjusted, the date given by https://www.jajanken.net/en/issues/2025-01-15 is not a Sunday.\n",
      "The final url used was:\n",
      "https://www.jajanken.net/en/issues/2025-01-15\n"
     ]
    }
   ],
   "source": [
    "loader.load_from_urls(url_stem='https://www.jajanken.net',starting_url='https://www.jajanken.net/en/issues/2025-08-18/', stop_point=30)"
   ]
  },
  {
   "cell_type": "code",
   "execution_count": 4,
   "id": "8e1f1929",
   "metadata": {},
   "outputs": [],
   "source": [
    "df=loader.compile_all_invalid()"
   ]
  },
  {
   "cell_type": "code",
   "execution_count": 7,
   "id": "80c80bea",
   "metadata": {},
   "outputs": [
    {
     "data": {
      "text/plain": [
       "array(['Star of Beethoven', 'Embers', 'Syd Craft: Love Is a Mystery',\n",
       "       'Super Psychic Policeman Chojo', 'Astro Royale', 'Hakutaku',\n",
       "       'Undead Unluck', 'Mission: Yozakura Family'], dtype=object)"
      ]
     },
     "execution_count": 7,
     "metadata": {},
     "output_type": "execute_result"
    }
   ],
   "source": [
    "df[df['Type']!='One-Shot']['Manga Title'].unique()"
   ]
  },
  {
   "cell_type": "code",
   "execution_count": 3,
   "id": "de1c35c5",
   "metadata": {},
   "outputs": [
    {
     "data": {
      "text/plain": [
       "[('One Piece', '2025-06-29'),\n",
       " ('One Piece', '2025-07-06'),\n",
       " ('One Piece', '2025-07-13'),\n",
       " ('One Piece', '2025-07-20'),\n",
       " ('One Piece', '2025-07-27'),\n",
       " ('One Piece', '2025-08-03')]"
      ]
     },
     "execution_count": 3,
     "metadata": {},
     "output_type": "execute_result"
    }
   ],
   "source": [
    "cursor.execute(\"\"\"SELECT a.series, b.release_date \n",
    "               FROM (SELECT DISTINCT release_date FROM chapters) AS b\n",
    "               LEFT JOIN chapters AS a ON a.release_date=b.release_date\n",
    "               AND a.series='One Piece'\"\"\")\n",
    "cursor.fetchall()"
   ]
  },
  {
   "cell_type": "code",
   "execution_count": 4,
   "id": "ff95c106",
   "metadata": {},
   "outputs": [],
   "source": [
    "connection.close()"
   ]
  },
  {
   "cell_type": "code",
   "execution_count": 5,
   "id": "4c737d13",
   "metadata": {},
   "outputs": [
    {
     "name": "stdout",
     "output_type": "stream",
     "text": [
      "0\n"
     ]
    }
   ],
   "source": [
    "empty_list=[]\n",
    "print(len(empty_list))"
   ]
  }
 ],
 "metadata": {
  "kernelspec": {
   "display_name": "Python 3",
   "language": "python",
   "name": "python3"
  },
  "language_info": {
   "codemirror_mode": {
    "name": "ipython",
    "version": 3
   },
   "file_extension": ".py",
   "mimetype": "text/x-python",
   "name": "python",
   "nbconvert_exporter": "python",
   "pygments_lexer": "ipython3",
   "version": "3.11.3"
  }
 },
 "nbformat": 4,
 "nbformat_minor": 5
}
