{
 "cells": [
  {
   "cell_type": "markdown",
   "id": "5b09db94",
   "metadata": {},
   "source": [
    "# Overview\n",
    "This notebook is designed to demonstrate how the attached SQL database was constructed. Weekly Shonen Jump is a weekly manga (comic book) magazine published in Japan which includes roughly 20 regularly serialized series per issue. The database `shonen_jump.sqlite3` records series published in the magazine and tracks when series perform well (and are placed higher in the magazine's table of contents), receive color pages, or grace the cover of the magazine."
   ]
  },
  {
   "cell_type": "code",
   "execution_count": 1,
   "id": "c030fc21",
   "metadata": {},
   "outputs": [
    {
     "data": {
      "text/plain": [
       "<sqlite3.Cursor at 0x22e1eea9ec0>"
      ]
     },
     "execution_count": 1,
     "metadata": {},
     "output_type": "execute_result"
    }
   ],
   "source": [
    "import sqlite3\n",
    "connection = sqlite3.connect(\"shonen_jump.sqlite3\")\n",
    "cursor=connection.cursor()\n",
    "\n",
    "# We will enable foreign keys\n",
    "cursor.execute(\"PRAGMA foreign_keys = ON\")"
   ]
  },
  {
   "cell_type": "markdown",
   "id": "0189ffb6",
   "metadata": {},
   "source": [
    "First we will create a table to hold the possible statuses of a manga: \"Ongoing\", \"Complete\", \"Hiatus\"."
   ]
  },
  {
   "cell_type": "code",
   "execution_count": 2,
   "id": "2b0e16e7",
   "metadata": {},
   "outputs": [],
   "source": [
    "cursor.execute(\"CREATE TABLE IF NOT EXISTS statuses(status TEXT PRIMARY KEY)\")\n",
    "cursor.execute(\"\"\"\n",
    "               INSERT OR IGNORE INTO statuses VALUES\n",
    "               ('Ongoing'),\n",
    "               ('Complete'),\n",
    "               ('Hiatus'),\n",
    "               ('Transferred')\"\"\")\n",
    "connection.commit()"
   ]
  },
  {
   "cell_type": "markdown",
   "id": "fa2b0777",
   "metadata": {},
   "source": [
    "Similarly we will create a table of major genres."
   ]
  },
  {
   "cell_type": "code",
   "execution_count": 3,
   "id": "e3c6256d",
   "metadata": {},
   "outputs": [],
   "source": [
    "cursor.execute(\"CREATE TABLE IF NOT EXISTS genres(genre TEXT PRIMARY KEY)\")\n",
    "cursor.execute(\"\"\"\n",
    "               INSERT OR IGNORE INTO genres VALUES\n",
    "               ('Battle'),\n",
    "               ('Sports'),\n",
    "               ('Romance'),\n",
    "               ('Comedy'),\n",
    "               ('Other')\"\"\")\n",
    "connection.commit()"
   ]
  },
  {
   "cell_type": "markdown",
   "id": "295d44f5",
   "metadata": {},
   "source": [
    "Next we will create a table to record which series are running (or have run) in the magazine."
   ]
  },
  {
   "cell_type": "code",
   "execution_count": 4,
   "id": "e50d0380",
   "metadata": {},
   "outputs": [
    {
     "data": {
      "text/plain": [
       "<sqlite3.Cursor at 0x22e1eea9ec0>"
      ]
     },
     "execution_count": 4,
     "metadata": {},
     "output_type": "execute_result"
    }
   ],
   "source": [
    "cursor.execute(\"\"\"CREATE TABLE IF NOT EXISTS series(\n",
    "               title TEXT PRIMARY KEY,\n",
    "               writer TEXT,\n",
    "               artist TEXT,\n",
    "               total_chapters INTEGER CHECK (total_chapters > 0),\n",
    "               genre TEXT,\n",
    "               status TEXT,\n",
    "               start_date TEXT CHECK (start_date>'1900'),\n",
    "               end_date TEXT CHECK (end_date >= start_date),\n",
    "               FOREIGN KEY(status) REFERENCES statuses(status),\n",
    "               FOREIGN KEY(genre) REFERENCES genres(genre)\n",
    "               )\"\"\")"
   ]
  },
  {
   "cell_type": "markdown",
   "id": "b2ee0c90",
   "metadata": {},
   "source": [
    "To add multiple series at once to this new table we will use the execute many command. First we collect information on the series."
   ]
  },
  {
   "cell_type": "code",
   "execution_count": 5,
   "id": "34ee3528",
   "metadata": {},
   "outputs": [],
   "source": [
    "# Series will be added in the form (title, chapters, writer, artist, start, genre)\n",
    "\n",
    "series_to_add=[\n",
    "    ('One Piece', 1156,'Eiichiro Oda','Eiichiro Oda', 'Battle'),\n",
    "    ('Kagurabachi',89, 'Takeru Hokazono','Takeru Hokazono', 'Battle'),\n",
    "    ('Sakamoto Days',224, 'Yuto Suzuki','Yuto Suzuki', 'Battle'),\n",
    "    ('Ichi the Witch',45, 'Osamu Nishi','Shiro Usazaki', 'Battle'),\n",
    "    ('Kaedegami',7, 'Jun Harukawa','Jun Harukawa', 'Battle'),\n",
    "    ('The Elusive Samurai',213,'Yusei Matsui','Yusei Matsui', 'Other'),\n",
    "    ('Shinobi Undercover',44,'Ippon Takegushi','Santa Mitarashi', 'Battle'),\n",
    "    (\"Nue's Exorcist\",109,'Kota Kawae','Kota Kawae', 'Battle'),\n",
    "    ('Ultimate Exorcist Kiyoshi', 55,'Shoichi Usui','Shoichi Usui', 'Battle'),\n",
    "    ('Hima-Ten!',53,'Genki Ono','Genki Ono', 'Romance'),\n",
    "    ('Witch Watch',212,'Kenta Shinohara','Kenta Shinohara', 'Comedy'),\n",
    "    ('Akane-banashi',169,'Yuki Suenaga','Takamasa Moue', 'Other'),\n",
    "    ('Blue Box',206,'Kouji Miura','Kouji Miura', 'Romance'),\n",
    "    ('Ekiden Bros',6,'Daiki Nono','Daiki Nono', 'Sports'),\n",
    "    ('Harukaze Mound', 8, 'Togo Goto', 'Kento Matsuura',  'Sports'),\n",
    "    ('Kill Blue', 112, 'Tadatoshi Fujimaki','Tadatoshi Fujimaki','Comedy'),\n",
    "    ('Me & Roboco',244,'Shuhei Miyazaki','Shuhei Miyazaki','Comedy'),\n",
    "    ('Nice Prison',15,'Tatsuya Suganuma','Tatsuya Suganuma','Comedy'),\n",
    "    ('Otr of the Flame',13,'Yuki Kawaguchi','Yuki Kawaguchi','Battle'),\n",
    "    ('Ping-Pong Peril',5,'Yoshiharu Kataoka','Yoshiharu Kataoka','Sports')\n",
    "]"
   ]
  },
  {
   "cell_type": "code",
   "execution_count": 6,
   "id": "c780bddb",
   "metadata": {},
   "outputs": [],
   "source": [
    "cursor.executemany(\"\"\"\n",
    "               INSERT OR IGNORE INTO series (title, total_chapters, writer, artist, genre, status) \n",
    "                   VALUES (?,?,?,?,?,'Ongoing')\"\"\",series_to_add)\n",
    "connection.commit()"
   ]
  },
  {
   "cell_type": "markdown",
   "id": "7eafb85c",
   "metadata": {},
   "source": [
    "Now we will turn our attention to creating a table listing individual chapters appearing in the magazine. First we will list the kinds of chapters possible."
   ]
  },
  {
   "cell_type": "code",
   "execution_count": 7,
   "id": "af716b28",
   "metadata": {},
   "outputs": [],
   "source": [
    "cursor.execute(\"CREATE TABLE IF NOT EXISTS chapter_types(type TEXT PRIMARY KEY DEFAULT 'Normal')\")\n",
    "cursor.execute(\"\"\"\n",
    "               INSERT OR IGNORE INTO chapter_types VALUES\n",
    "               ('Normal'),\n",
    "               ('Color'),\n",
    "               ('Cover'),\n",
    "               ('Absent')\"\"\")\n",
    "connection.commit()"
   ]
  },
  {
   "cell_type": "code",
   "execution_count": 8,
   "id": "350e5a7e",
   "metadata": {},
   "outputs": [
    {
     "data": {
      "text/plain": [
       "<sqlite3.Cursor at 0x22e1eea9ec0>"
      ]
     },
     "execution_count": 8,
     "metadata": {},
     "output_type": "execute_result"
    }
   ],
   "source": [
    "cursor.execute(\"\"\"CREATE TABLE IF NOT EXISTS chapters(\n",
    "               series TEXT NOT NULL,\n",
    "               release_date TEXT NOT NULL,\n",
    "               toc_rank INTEGER,\n",
    "               chapter INTEGER,\n",
    "               type TEXT,\n",
    "               placement INTEGER,\n",
    "               Primary KEY (series, release_date),\n",
    "               FOREIGN KEY(series) REFERENCES series(title)\n",
    "               )\"\"\")"
   ]
  },
  {
   "cell_type": "markdown",
   "id": "ca4d6a4a",
   "metadata": {},
   "source": [
    "We also want the total chapter count in the series table to increment by 1 whenever a new chapter is published.  For this we will create two triggers for when the chapters table is acted upon.  One for insertions and one for updates."
   ]
  },
  {
   "cell_type": "code",
   "execution_count": 9,
   "id": "8de2f8d9",
   "metadata": {},
   "outputs": [],
   "source": [
    "cursor.execute(\"\"\"\n",
    "               CREATE TRIGGER IF NOT EXISTS update_chapter_on_insert INSERT ON chapters\n",
    "               WHEN NEW.chapter > (SELECT total_chapters FROM series WHERE title = NEW.series)\n",
    "               BEGIN\n",
    "               UPDATE series SET total_chapters = NEW.chapter WHERE title = NEW.series;\n",
    "               END;\n",
    "\"\"\")\n",
    "\n",
    "cursor.execute(\"\"\"\n",
    "               CREATE TRIGGER IF NOT EXISTS update_chapter_on_update UPDATE OF chapter ON chapters\n",
    "               WHEN NEW.chapter > (SELECT total_chapters FROM series WHERE title = NEW.series)\n",
    "               BEGIN\n",
    "               UPDATE series SET total_chapters = NEW.chapter WHERE title = NEW.series;\n",
    "               END;\n",
    "\"\"\")\n",
    "connection.commit()"
   ]
  },
  {
   "cell_type": "markdown",
   "id": "8785d203",
   "metadata": {},
   "source": [
    "To fill in the chapters table we will use the `add_week` function created in the script `sj_db_functions.py` which simplifies the process of adding each week's worth of chapters. The function is repeated below for completeness. "
   ]
  },
  {
   "cell_type": "code",
   "execution_count": 10,
   "id": "d2f39e02",
   "metadata": {},
   "outputs": [],
   "source": [
    "def add_week(date: str, data, recency=None):\n",
    "\n",
    "    \"\"\"This function updates the Shonen Jump database (shonen_jump.sqlite3) by adding a week's worth of chapters to the \n",
    "    chapters table.  Date should be a string of the form YYYY-MM-DD. \n",
    "    \n",
    "    By using the optional parameter \"recency\" chapter numbers can\n",
    "    be automatically assigned based on the currently known chapters. If recency='latest' then the chapter number will be 1 more than\n",
    "    the currently recorded total chapters of the series. If recency='previous' then the chapter number will be 1 less than the smallest recorded chapter\n",
    "    for the series in the database. \n",
    "    \n",
    "    Data should be a list of dictionaries, with each dictionary containing the following:\n",
    "    \n",
    "        {'s': \"Name of Series as a string\"  # Required\n",
    "\n",
    "        'r': Rank in the table of contents as an int. # Optional. Should be omitted if chapter type is not 'Normal'\n",
    "\n",
    "        't': \"Type of chapter as a string: 'Absent','Color', 'Cover', or 'Normal'\" # Optional, defaults to normal.\n",
    "\n",
    "        'c': Chapter number as an int. # Optional. Will be overwritten if the recency parameter of add_week is included.}\"\"\"\n",
    "    \n",
    "    # First we scan the user entered data to warn for errors.\n",
    "    for entry in data:\n",
    "        if entry.get('s')==None:\n",
    "            raise Exception('The name of each series must be included.')\n",
    "        if entry.get('r')!=None and entry.get('t').lower() in ['absent','color', 'cover']:\n",
    "            raise Exception('A special chapter cannon be given a ranking in the table of contents.')\n",
    "        if entry.get('r')<1:\n",
    "            raise Exception('Rankings cannot be less than 1.')\n",
    "        if entry.get('c')!=None and recency in ['latest', 'previous']:\n",
    "            raise Warning('Chapter numbers which were provided have been ignored because the recency parameter was set.')\n",
    "        entry['d']=date\n",
    "        \n",
    "    # We now connect to the database\n",
    "    connection = sqlite3.connect(\"shonen_jump.sqlite3\")\n",
    "    cursor=connection.cursor()\n",
    "\n",
    "    # If recency is set to latest we autocalculate the chapter numbers.\n",
    "    if recency=='latest':\n",
    "        cursor.executemany(\"\"\"\n",
    "                           INSERT INTO chapters (series, release_date, number, toc_rank, type)\n",
    "                           VALUES (:s, :d,\n",
    "                           CASE WHEN :t='Absent' THEN NULL\n",
    "                           ELSE (SELECT 1 + total_chapters FROM series WHERE title=:s),:r,:t)\"\"\",data)\n",
    "    elif recency=='previous':\n",
    "        cursor.executemany(\"\"\"\n",
    "                           INSERT INTO chapters (series, release_date, number, toc_rank, type)\n",
    "                           VALUES (:s, :d,\n",
    "                           CASE WHEN :t='Absent' THEN NULL\n",
    "                           ELSE (SELECT -1 + MIN(number) FROM chapters WHERE series=:s),:r,:t)\"\"\",data)\n",
    "    # Otherwise we add the information given as is.\n",
    "    else:\n",
    "        cursor.executemany(\"\"\"\n",
    "                           INSERT INTO chapters (series, release_date, number, toc_rank, type)\n",
    "                           VALUES (:s,:d,:c,:r,:t)\"\"\",data)\n",
    "    connection.commit()\n",
    "    connection.close()"
   ]
  },
  {
   "cell_type": "code",
   "execution_count": 11,
   "id": "075d0345",
   "metadata": {},
   "outputs": [],
   "source": [
    "connection.close()"
   ]
  }
 ],
 "metadata": {
  "kernelspec": {
   "display_name": "Python 3",
   "language": "python",
   "name": "python3"
  },
  "language_info": {
   "codemirror_mode": {
    "name": "ipython",
    "version": 3
   },
   "file_extension": ".py",
   "mimetype": "text/x-python",
   "name": "python",
   "nbconvert_exporter": "python",
   "pygments_lexer": "ipython3",
   "version": "3.11.3"
  }
 },
 "nbformat": 4,
 "nbformat_minor": 5
}
