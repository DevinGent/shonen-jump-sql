{
 "cells": [
  {
   "cell_type": "markdown",
   "id": "5b09db94",
   "metadata": {},
   "source": [
    "# Overview\n",
    "This notebook is designed to demonstrate how the attached SQL database was constructed. Weekly Shonen Jump is a weekly manga (comic book) magazine published in Japan which includes roughly 20 regularly serialized series per issue. The database `shonen_jump.sqlite3` records series published in the magazine and tracks when series perform well (and are placed higher in the magazine's table of contents), receive color pages, or grace the cover of the magazine."
   ]
  },
  {
   "cell_type": "code",
   "execution_count": 52,
   "id": "c030fc21",
   "metadata": {},
   "outputs": [
    {
     "data": {
      "text/plain": [
       "<sqlite3.Cursor at 0x27ffe5ce7c0>"
      ]
     },
     "execution_count": 52,
     "metadata": {},
     "output_type": "execute_result"
    }
   ],
   "source": [
    "import sqlite3\n",
    "connection = sqlite3.connect(\"shonen_jump.sqlite3\")\n",
    "cursor=connection.cursor()\n",
    "\n",
    "# We will enable foreign keys\n",
    "cursor.execute(\"PRAGMA foreign_keys = ON\")"
   ]
  },
  {
   "cell_type": "markdown",
   "id": "94de55de",
   "metadata": {},
   "source": [
    "## statuses Table"
   ]
  },
  {
   "cell_type": "markdown",
   "id": "0189ffb6",
   "metadata": {},
   "source": [
    "First we will create a table to hold the possible statuses of a manga: \"Ongoing\", \"Complete\", \"Hiatus\"."
   ]
  },
  {
   "cell_type": "code",
   "execution_count": 53,
   "id": "2b0e16e7",
   "metadata": {},
   "outputs": [],
   "source": [
    "cursor.execute(\"CREATE TABLE IF NOT EXISTS statuses(status TEXT PRIMARY KEY)\")\n",
    "cursor.execute(\"\"\"\n",
    "               INSERT OR IGNORE INTO statuses VALUES\n",
    "               ('Ongoing'),\n",
    "               ('Complete'),\n",
    "               ('Hiatus'),\n",
    "               ('Transferred')\"\"\")\n",
    "connection.commit()"
   ]
  },
  {
   "cell_type": "markdown",
   "id": "d19a709a",
   "metadata": {},
   "source": [
    "## genres Table"
   ]
  },
  {
   "cell_type": "markdown",
   "id": "fa2b0777",
   "metadata": {},
   "source": [
    "Similarly we will create a table of major genres."
   ]
  },
  {
   "cell_type": "code",
   "execution_count": 54,
   "id": "e3c6256d",
   "metadata": {},
   "outputs": [],
   "source": [
    "cursor.execute(\"CREATE TABLE IF NOT EXISTS genres(genre TEXT PRIMARY KEY)\")\n",
    "cursor.execute(\"\"\"\n",
    "               INSERT OR IGNORE INTO genres VALUES\n",
    "               ('Battle'),\n",
    "               ('Sports'),\n",
    "               ('Romance'),\n",
    "               ('Comedy'),\n",
    "               ('Other')\"\"\")\n",
    "connection.commit()"
   ]
  },
  {
   "cell_type": "markdown",
   "id": "19723154",
   "metadata": {},
   "source": [
    "## series Table"
   ]
  },
  {
   "cell_type": "markdown",
   "id": "295d44f5",
   "metadata": {},
   "source": [
    "Next we will create a table to record which series are running (or have run) in the magazine."
   ]
  },
  {
   "cell_type": "code",
   "execution_count": 55,
   "id": "e50d0380",
   "metadata": {},
   "outputs": [
    {
     "data": {
      "text/plain": [
       "<sqlite3.Cursor at 0x27ffe5ce7c0>"
      ]
     },
     "execution_count": 55,
     "metadata": {},
     "output_type": "execute_result"
    }
   ],
   "source": [
    "cursor.execute(\"\"\"CREATE TABLE IF NOT EXISTS series(\n",
    "               title TEXT PRIMARY KEY,\n",
    "               writer TEXT,\n",
    "               artist TEXT,\n",
    "               total_chapters INTEGER CHECK (total_chapters > 0),\n",
    "               genre TEXT,\n",
    "               status TEXT,\n",
    "               FOREIGN KEY(status) REFERENCES statuses(status),\n",
    "               FOREIGN KEY(genre) REFERENCES genres(genre)\n",
    "               )\"\"\")"
   ]
  },
  {
   "cell_type": "markdown",
   "id": "9de22eec",
   "metadata": {},
   "source": [
    "### Example Data Entry"
   ]
  },
  {
   "cell_type": "markdown",
   "id": "b2ee0c90",
   "metadata": {},
   "source": [
    "To add multiple series at once to this new table we will use the execute many command. First we collect information on the series."
   ]
  },
  {
   "cell_type": "code",
   "execution_count": 56,
   "id": "34ee3528",
   "metadata": {},
   "outputs": [],
   "source": [
    "# Series will be added in the form (title, chapters, writer, artist, start, genre)\n",
    "\n",
    "series_to_add=[\n",
    "    ('One Piece', 1156,'Eiichiro Oda','Eiichiro Oda', 'Battle'),\n",
    "    ('Kagurabachi',89, 'Takeru Hokazono','Takeru Hokazono', 'Battle'),\n",
    "    ('Sakamoto Days',224, 'Yuto Suzuki','Yuto Suzuki', 'Battle'),\n",
    "    ('Ichi the Witch',45, 'Osamu Nishi','Shiro Usazaki', 'Battle'),\n",
    "    ('Kaedegami',7, 'Jun Harukawa','Jun Harukawa', 'Battle'),\n",
    "    ('The Elusive Samurai',213,'Yusei Matsui','Yusei Matsui', 'Other'),\n",
    "    ('Shinobi Undercover',44,'Ippon Takegushi','Santa Mitarashi', 'Battle'),\n",
    "    (\"Nue's Exorcist\",109,'Kota Kawae','Kota Kawae', 'Battle'),\n",
    "    ('Ultimate Exorcist Kiyoshi', 55,'Shoichi Usui','Shoichi Usui', 'Battle'),\n",
    "    ('Hima-Ten!',53,'Genki Ono','Genki Ono', 'Romance'),\n",
    "    ('WITCH WATCH',212,'Kenta Shinohara','Kenta Shinohara', 'Comedy'),\n",
    "    ('Akane-banashi',169,'Yuki Suenaga','Takamasa Moue', 'Other'),\n",
    "    ('Blue Box',206,'Kouji Miura','Kouji Miura', 'Romance'),\n",
    "    ('Ekiden Bros',6,'Daiki Nono','Daiki Nono', 'Sports'),\n",
    "    ('Harukaze Mound', 8, 'Togo Goto', 'Kento Matsuura',  'Sports'),\n",
    "    ('Kill Blue', 112, 'Tadatoshi Fujimaki','Tadatoshi Fujimaki','Comedy'),\n",
    "    ('Me & Roboco',244,'Shuhei Miyazaki','Shuhei Miyazaki','Comedy'),\n",
    "    ('Nice Prison',15,'Tatsuya Suganuma','Tatsuya Suganuma','Comedy'),\n",
    "    ('Otr of the Flame',13,'Yuki Kawaguchi','Yuki Kawaguchi','Battle'),\n",
    "    ('Ping-Pong Peril',5,'Yoshiharu Kataoka','Yoshiharu Kataoka','Sports'),\n",
    "    ('Jujutsu Kaisen Modulo',7,'Gege Akutami','Yuji Iwasaki','Battle'),\n",
    "    ('Someone Hertz',6,'Ei Yamano','Ei Yamano','Romance')\n",
    "]"
   ]
  },
  {
   "cell_type": "code",
   "execution_count": 57,
   "id": "c780bddb",
   "metadata": {},
   "outputs": [],
   "source": [
    "cursor.executemany(\"\"\"\n",
    "               INSERT OR IGNORE INTO series (title, total_chapters, writer, artist, genre, status) \n",
    "                   VALUES (?,?,?,?,?,'Ongoing')\"\"\",series_to_add)\n",
    "connection.commit()"
   ]
  },
  {
   "cell_type": "markdown",
   "id": "dea1084f",
   "metadata": {},
   "source": [
    "## chapter_types Table"
   ]
  },
  {
   "cell_type": "markdown",
   "id": "7eafb85c",
   "metadata": {},
   "source": [
    "Now we will turn our attention to creating a table listing individual chapters appearing in the magazine. First we will list the kinds of chapters possible."
   ]
  },
  {
   "cell_type": "code",
   "execution_count": 58,
   "id": "af716b28",
   "metadata": {},
   "outputs": [],
   "source": [
    "cursor.execute(\"CREATE TABLE IF NOT EXISTS chapter_types(type TEXT PRIMARY KEY DEFAULT 'Normal')\")\n",
    "cursor.execute(\"\"\"\n",
    "               INSERT OR IGNORE INTO chapter_types VALUES\n",
    "               ('Normal'),\n",
    "               ('Color'),\n",
    "               ('Cover'),\n",
    "               ('Absent')\"\"\")\n",
    "connection.commit()"
   ]
  },
  {
   "cell_type": "markdown",
   "id": "e1700ade",
   "metadata": {},
   "source": [
    "## chapters Table"
   ]
  },
  {
   "cell_type": "code",
   "execution_count": 59,
   "id": "350e5a7e",
   "metadata": {},
   "outputs": [],
   "source": [
    "cursor.execute(\"\"\"CREATE TABLE IF NOT EXISTS chapters(\n",
    "               series TEXT NOT NULL,\n",
    "               release_date TEXT NOT NULL,\n",
    "               toc_rank INTEGER,\n",
    "               chapter INTEGER,\n",
    "               type TEXT,\n",
    "               placement INTEGER,\n",
    "               Primary KEY (series, release_date),\n",
    "               FOREIGN KEY(series) REFERENCES series(title)\n",
    "               )\"\"\")\n",
    "connection.commit()"
   ]
  },
  {
   "cell_type": "markdown",
   "id": "f710f106",
   "metadata": {},
   "source": [
    "### Creating Chapter Count Triggers"
   ]
  },
  {
   "cell_type": "markdown",
   "id": "ca4d6a4a",
   "metadata": {},
   "source": [
    "We also want the total chapter count in the series table to increment by 1 whenever a new chapter is published.  For this we will create two triggers for when the chapters table is acted upon.  One for insertions and one for updates."
   ]
  },
  {
   "cell_type": "code",
   "execution_count": 60,
   "id": "8de2f8d9",
   "metadata": {},
   "outputs": [],
   "source": [
    "cursor.execute(\"\"\"\n",
    "               CREATE TRIGGER IF NOT EXISTS update_chapter_on_insert INSERT ON chapters\n",
    "               WHEN NEW.chapter > (SELECT total_chapters FROM series WHERE title = NEW.series)\n",
    "               BEGIN\n",
    "               UPDATE series SET total_chapters = NEW.chapter WHERE title = NEW.series;\n",
    "               END;\n",
    "\"\"\")\n",
    "\n",
    "cursor.execute(\"\"\"\n",
    "               CREATE TRIGGER IF NOT EXISTS update_chapter_on_update UPDATE OF chapter ON chapters\n",
    "               WHEN NEW.chapter > (SELECT total_chapters FROM series WHERE title = NEW.series)\n",
    "               BEGIN\n",
    "               UPDATE series SET total_chapters = NEW.chapter WHERE title = NEW.series;\n",
    "               END;\n",
    "\"\"\")\n",
    "connection.commit()"
   ]
  },
  {
   "cell_type": "markdown",
   "id": "06408d94",
   "metadata": {},
   "source": [
    "We fill individual chapters in using the notebook `interactive_entry.ipynb` to gather table of contents information from the internet and add it to the chapters table of our SQLite3 file."
   ]
  },
  {
   "cell_type": "markdown",
   "id": "8785d203",
   "metadata": {},
   "source": [
    "To fill in the chapters table we will use the `add_week` function created in the script `sj_db_functions.py` which simplifies the process of adding each week's worth of chapters. The function is repeated below for completeness. "
   ]
  },
  {
   "cell_type": "markdown",
   "id": "4fa7a79c",
   "metadata": {},
   "source": [
    "# batches Table"
   ]
  },
  {
   "cell_type": "markdown",
   "id": "55d12a21",
   "metadata": {},
   "source": [
    "Manga in Weekly Shonen Jump are typically added and removed in batches. For instance, over the course of three successive weeks one series ends per week and then over the following three weeks a new series debuts each week. We will create a table to track when batches start and end, as well as counting how many series were concluded and started with the batch. The column start_date contains the date of the first cancellation in the batch and the column end_date contains the date of the last new series added."
   ]
  },
  {
   "cell_type": "code",
   "execution_count": 61,
   "id": "4a03890e",
   "metadata": {},
   "outputs": [],
   "source": [
    "cursor.execute(\"\"\"CREATE TABLE IF NOT EXISTS batches(\n",
    "               start_date TEXT NOT NULL,\n",
    "               end_date TEXT NOT NULL,\n",
    "               added INTEGER,\n",
    "               completed INTEGER,\n",
    "               Primary KEY (start_date, end_date)\n",
    "               );\"\"\")\n",
    "connection.commit()"
   ]
  },
  {
   "cell_type": "markdown",
   "id": "d06e64a6",
   "metadata": {},
   "source": [
    "## Creating Views"
   ]
  },
  {
   "cell_type": "markdown",
   "id": "00a1cc04",
   "metadata": {},
   "source": [
    "### debuts\n",
    "\n",
    "The first view we create will list only the debut chapter for each series."
   ]
  },
  {
   "cell_type": "code",
   "execution_count": 62,
   "id": "90f724f0",
   "metadata": {},
   "outputs": [],
   "source": [
    "cursor.execute(\"\"\"CREATE VIEW IF NOT EXISTS debuts AS\n",
    "                SELECT series, release_date, chapter FROM chapters\n",
    "                WHERE chapter=1\n",
    "                ORDER BY release_date DESC;\"\"\")\n",
    "connection.commit()"
   ]
  },
  {
   "cell_type": "markdown",
   "id": "227554f2",
   "metadata": {},
   "source": [
    "### finales\n",
    "\n",
    "Next we create a view that only displays the final chapter published in Weekly Shonen Jump."
   ]
  },
  {
   "cell_type": "code",
   "execution_count": 63,
   "id": "e43f5219",
   "metadata": {},
   "outputs": [],
   "source": [
    "cursor.execute(\"\"\"CREATE VIEW IF NOT EXISTS finales AS\n",
    "               SELECT series, \n",
    "               release_date,\n",
    "                chapter\n",
    "                FROM chapters\n",
    "                JOIN series ON series.title=chapters.series AND \n",
    "                chapters.chapter=series.total_chapters AND\n",
    "                (series.status='Complete' OR series.status='Transferred')\n",
    "                GROUP BY chapters.series\n",
    "                ORDER BY release_date DESC;\"\"\")\n",
    "connection.commit()"
   ]
  },
  {
   "cell_type": "markdown",
   "id": "ea283c83",
   "metadata": {},
   "source": [
    "### batch_locator\n",
    "\n",
    "Now we combine these views to be able to easily view batches."
   ]
  },
  {
   "cell_type": "code",
   "execution_count": 64,
   "id": "224f2813",
   "metadata": {},
   "outputs": [],
   "source": [
    "cursor.execute(\"\"\"CREATE VIEW IF NOT EXISTS batch_locator AS\n",
    "                SELECT *, 'Debut' AS debut_or_finale from debuts \n",
    "                UNION SELECT *, 'Finale' AS debut_or_finale FROM finales\n",
    "                ORDER BY release_date DESC;\"\"\")\n",
    "connection.commit()"
   ]
  },
  {
   "cell_type": "code",
   "execution_count": 65,
   "id": "075d0345",
   "metadata": {},
   "outputs": [],
   "source": [
    "connection.close()"
   ]
  }
 ],
 "metadata": {
  "kernelspec": {
   "display_name": "Python 3",
   "language": "python",
   "name": "python3"
  },
  "language_info": {
   "codemirror_mode": {
    "name": "ipython",
    "version": 3
   },
   "file_extension": ".py",
   "mimetype": "text/x-python",
   "name": "python",
   "nbconvert_exporter": "python",
   "pygments_lexer": "ipython3",
   "version": "3.11.3"
  }
 },
 "nbformat": 4,
 "nbformat_minor": 5
}
