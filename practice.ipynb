{
 "cells": [
  {
   "cell_type": "code",
   "execution_count": 29,
   "id": "16834020",
   "metadata": {},
   "outputs": [],
   "source": [
    "import pandas as pd\n",
    "import sqlite3\n",
    "import sj_db_functions as dbfunc\n",
    "\n",
    "connection=sqlite3.connect('shonen_jump_dupe.sqlite3')\n",
    "cursor=connection.cursor()"
   ]
  },
  {
   "cell_type": "code",
   "execution_count": 30,
   "id": "9c575a89",
   "metadata": {},
   "outputs": [],
   "source": [
    "date='2025-08-17'"
   ]
  },
  {
   "cell_type": "code",
   "execution_count": 31,
   "id": "2734cfe6",
   "metadata": {},
   "outputs": [
    {
     "data": {
      "text/plain": [
       "[('Akane-banashi', '2025-08-17', None, 170, 'Cover', 1, 170),\n",
       " ('Astro Royale', '2025-04-20', 16, 50, 'Normal', 20, 50),\n",
       " ('Black Clover', '2023-08-20', 9, 368, 'Normal', 12, 368),\n",
       " ('Blue Box', '2025-08-17', None, 207, 'Color', 7, 207),\n",
       " ('Cipher Academy', '2024-02-04', 16, 58, 'Normal', 22, 58),\n",
       " ('Dear Anemone', '2024-06-16', 13, 17, 'Normal', 18, 17),\n",
       " ('Do Retry', '2023-09-17', 14, 19, 'Normal', 18, 19),\n",
       " ('Ekiden Bros', '2025-08-17', None, 7, 'Normal', 8, 7),\n",
       " ('Embers', '2025-06-22', 15, 20, 'Normal', 21, 20),\n",
       " ('Fabricant 100', '2023-09-03', 16, 36, 'Normal', 21, 36),\n",
       " ('Ginka & Glüna', '2023-04-09', 13, 29, 'Normal', 19, 29),\n",
       " ('Green Green Greens', '2024-06-09', 14, 26, 'Normal', 20, 26),\n",
       " ('Haikyu!!', '2024-02-04', None, None, 'One-Shot', 10, None),\n",
       " ('Hakutaku', '2025-02-02', 15, 18, 'Normal', 19, 18),\n",
       " ('Harukaze Mound', '2025-08-17', 8, 9, 'Normal', 13, 9),\n",
       " ('Hima-Ten!', '2025-08-17', 11, 54, 'Normal', 17, 54),\n",
       " ('Hunter x Hunter', '2024-12-08', 10, 410, 'Normal', 15, 410),\n",
       " ('Ice-Head Gill', '2023-11-12', 15, 20, 'Normal', 19, 20),\n",
       " ('Ichi the Witch', '2025-08-17', 1, 46, 'Normal', 2, 46),\n",
       " (\"Ichigoki's Under Control!!\", '2023-04-16', 14, 19, 'Normal', 18, 19),\n",
       " ('Jujutsu Kaisen', '2024-09-29', 6, 271, 'Normal', 7, 271),\n",
       " ('Kaedegami', '2025-08-17', 9, 8, 'Normal', 15, 8),\n",
       " ('Kagurabachi', '2025-08-17', 7, 90, 'Normal', 12, 90),\n",
       " ('Kill Blue', '2025-08-17', 10, 113, 'Normal', 16, 113),\n",
       " ('Kyokuto Necromance', '2024-09-01', 15, 18, 'Normal', 19, 18),\n",
       " ('MamaYuyu', '2024-04-07', 16, 29, 'Normal', 20, 29),\n",
       " ('Martial Master Asumi', '2024-02-11', 14, 32, 'Normal', 19, 32),\n",
       " ('Mashle: Magic and Muscles', '2023-07-02', 5, 162, 'Normal', 7, 162),\n",
       " ('Me & Roboco', '2025-08-17', 12, 245, 'Normal', 18, 245),\n",
       " ('Mission: Yozakura Family', '2025-01-19', 4, 258, 'Normal', 5, 258),\n",
       " ('My Hero Academia', '2024-08-04', 5, 430, 'Normal', 6, 430),\n",
       " ('Nice Prison', '2025-08-17', 15, 16, 'Normal', 21, 16),\n",
       " (\"Nue's Exorcist\", '2025-08-17', None, 110, 'Color', 14, 110),\n",
       " ('One Piece', '2025-08-17', 3, 1157, 'Normal', 4, 1157),\n",
       " ('Otr of the Flame', '2025-08-17', 14, 14, 'Normal', 20, 14),\n",
       " ('Ping-Pong Peril', '2025-08-17', None, 6, 'Normal', 10, 6),\n",
       " ('Psych House', '2024-09-08', 14, 17, 'Normal', 18, 17),\n",
       " ('RuriDragon', '2024-03-31', 15, 11, 'Normal', 20, 11),\n",
       " ('Sakamoto Days', '2025-08-17', 5, 225, 'Normal', 6, 225),\n",
       " ('Shadow Eliminators', '2024-04-21', 16, 19, 'Normal', 19, 19),\n",
       " ('Shinobi Undercover', '2025-08-17', 4, 45, 'Normal', 5, 45),\n",
       " ('Star of Beethoven', '2025-06-29', 15, 20, 'Normal', 20, 20),\n",
       " ('Super Psychic Policeman Chojo', '2023-04-23', 15, 65, 'One-Shot', 10, 65),\n",
       " ('Syd Craft: Love Is a Mystery', '2025-06-15', 14, 28, 'Normal', 19, 28),\n",
       " ('Tenmaku Cinema', '2023-09-10', 14, 21, 'Normal', 18, 21),\n",
       " ('The Elusive Samurai', '2025-08-17', 13, 214, 'Normal', 19, 214),\n",
       " (\"The Ichinose Family's Deadly Sins\", '2023-11-05', 14, 48, 'Normal', 19, 48),\n",
       " ('Tokyo Demon Bride Story', '2023-04-02', 10, 29, 'Normal', 19, 29),\n",
       " ('Two on Ice', '2024-04-14', 15, 28, 'Normal', 19, 28),\n",
       " ('Ultimate Exorcist Kiyoshi', '2025-08-17', 6, 56, 'Normal', 9, 56),\n",
       " ('Undead Unluck', '2025-01-26', 3, 239, 'Normal', 4, 239),\n",
       " ('WITCH WATCH', '2025-08-17', 2, 213, 'Normal', 3, 213),\n",
       " ('Yokai Buster Murakami', '2024-11-10', 17, 21, 'Normal', 21, 21)]"
      ]
     },
     "execution_count": 31,
     "metadata": {},
     "output_type": "execute_result"
    }
   ],
   "source": [
    "cursor.execute(\"\"\"SELECT *, MAX(chapter) FROM chapters GROUP BY series\"\"\")\n",
    "cursor.fetchall()"
   ]
  },
  {
   "cell_type": "code",
   "execution_count": 32,
   "id": "c5a01c78",
   "metadata": {},
   "outputs": [
    {
     "data": {
      "text/plain": [
       "[('Akane-banashi', '2025-08-17', None, 170, 'Cover', 1),\n",
       " ('Ichi the Witch', '2025-08-17', 1, 46, 'Normal', 2),\n",
       " ('WITCH WATCH', '2025-08-17', 2, 213, 'Normal', 3),\n",
       " ('One Piece', '2025-08-17', 3, 1157, 'Normal', 4),\n",
       " ('Shinobi Undercover', '2025-08-17', 4, 45, 'Normal', 5),\n",
       " ('Sakamoto Days', '2025-08-17', 5, 225, 'Normal', 6),\n",
       " ('Blue Box', '2025-08-17', None, 207, 'Color', 7),\n",
       " ('Ekiden Bros', '2025-08-17', None, 7, 'Normal', 8),\n",
       " ('Ultimate Exorcist Kiyoshi', '2025-08-17', 6, 56, 'Normal', 9),\n",
       " ('Ping-Pong Peril', '2025-08-17', None, 6, 'Normal', 10),\n",
       " ('Kagurabachi', '2025-08-17', 7, 90, 'Normal', 12),\n",
       " ('Harukaze Mound', '2025-08-17', 8, 9, 'Normal', 13),\n",
       " (\"Nue's Exorcist\", '2025-08-17', None, 110, 'Color', 14),\n",
       " ('Kaedegami', '2025-08-17', 9, 8, 'Normal', 15),\n",
       " ('Kill Blue', '2025-08-17', 10, 113, 'Normal', 16),\n",
       " ('Hima-Ten!', '2025-08-17', 11, 54, 'Normal', 17),\n",
       " ('Me & Roboco', '2025-08-17', 12, 245, 'Normal', 18),\n",
       " ('The Elusive Samurai', '2025-08-17', 13, 214, 'Normal', 19),\n",
       " ('Otr of the Flame', '2025-08-17', 14, 14, 'Normal', 20),\n",
       " ('Nice Prison', '2025-08-17', 15, 16, 'Normal', 21)]"
      ]
     },
     "execution_count": 32,
     "metadata": {},
     "output_type": "execute_result"
    }
   ],
   "source": [
    "cursor.execute(\"\"\"SELECT * FROM chapters WHERE release_date=?\"\"\",(date,))\n",
    "cursor.fetchall()"
   ]
  },
  {
   "cell_type": "code",
   "execution_count": 33,
   "id": "ced5dee6",
   "metadata": {},
   "outputs": [
    {
     "data": {
      "text/plain": [
       "<sqlite3.Cursor at 0x1b464e7eb40>"
      ]
     },
     "execution_count": 33,
     "metadata": {},
     "output_type": "execute_result"
    }
   ],
   "source": [
    "cursor.execute(\"\"\"\n",
    "UPDATE chapters SET chapter= \n",
    "               10+(SELECT MAX(chapter) FROM chapters AS c \n",
    "               WHERE chapters.series=c.series\n",
    "               GROUP BY series)\n",
    "               WHERE release_date=?\"\"\",(date,))"
   ]
  },
  {
   "cell_type": "code",
   "execution_count": 34,
   "id": "111446ff",
   "metadata": {},
   "outputs": [
    {
     "data": {
      "text/plain": [
       "[('Akane-banashi', '2025-08-17', None, 180, 'Cover', 1),\n",
       " ('Ichi the Witch', '2025-08-17', 1, 56, 'Normal', 2),\n",
       " ('WITCH WATCH', '2025-08-17', 2, 223, 'Normal', 3),\n",
       " ('One Piece', '2025-08-17', 3, 1167, 'Normal', 4),\n",
       " ('Shinobi Undercover', '2025-08-17', 4, 55, 'Normal', 5),\n",
       " ('Sakamoto Days', '2025-08-17', 5, 235, 'Normal', 6),\n",
       " ('Blue Box', '2025-08-17', None, 217, 'Color', 7),\n",
       " ('Ekiden Bros', '2025-08-17', None, 17, 'Normal', 8),\n",
       " ('Ultimate Exorcist Kiyoshi', '2025-08-17', 6, 66, 'Normal', 9),\n",
       " ('Ping-Pong Peril', '2025-08-17', None, 16, 'Normal', 10),\n",
       " ('Kagurabachi', '2025-08-17', 7, 100, 'Normal', 12),\n",
       " ('Harukaze Mound', '2025-08-17', 8, 19, 'Normal', 13),\n",
       " (\"Nue's Exorcist\", '2025-08-17', None, 120, 'Color', 14),\n",
       " ('Kaedegami', '2025-08-17', 9, 18, 'Normal', 15),\n",
       " ('Kill Blue', '2025-08-17', 10, 123, 'Normal', 16),\n",
       " ('Hima-Ten!', '2025-08-17', 11, 64, 'Normal', 17),\n",
       " ('Me & Roboco', '2025-08-17', 12, 255, 'Normal', 18),\n",
       " ('The Elusive Samurai', '2025-08-17', 13, 224, 'Normal', 19),\n",
       " ('Otr of the Flame', '2025-08-17', 14, 24, 'Normal', 20),\n",
       " ('Nice Prison', '2025-08-17', 15, 26, 'Normal', 21)]"
      ]
     },
     "execution_count": 34,
     "metadata": {},
     "output_type": "execute_result"
    }
   ],
   "source": [
    "cursor.execute(\"\"\"SELECT * FROM chapters WHERE release_date=?\"\"\",(date,))\n",
    "cursor.fetchall()"
   ]
  },
  {
   "cell_type": "code",
   "execution_count": 35,
   "id": "c529a276",
   "metadata": {},
   "outputs": [],
   "source": [
    "connection.close()"
   ]
  }
 ],
 "metadata": {
  "kernelspec": {
   "display_name": "Python 3",
   "language": "python",
   "name": "python3"
  },
  "language_info": {
   "codemirror_mode": {
    "name": "ipython",
    "version": 3
   },
   "file_extension": ".py",
   "mimetype": "text/x-python",
   "name": "python",
   "nbconvert_exporter": "python",
   "pygments_lexer": "ipython3",
   "version": "3.11.3"
  }
 },
 "nbformat": 4,
 "nbformat_minor": 5
}
